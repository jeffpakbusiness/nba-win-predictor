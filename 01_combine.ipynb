{
 "cells": [
  {
   "cell_type": "markdown",
   "id": "4b7217be-f0a5-49ee-8323-eb4d2bef8c4b",
   "metadata": {},
   "source": [
    "# 01 — Combine per-season Advanced/Misc Team CSVs\n",
    "Input files (in `../data`): `nba_misc_2015.csv ... nba_misc_2024.csv`  \n",
    "Output: `../data/combined_team_stats.csv`"
   ]
  },
  {
   "cell_type": "code",
   "execution_count": 3,
   "id": "6c1f7184-0cf6-443a-9321-d754a509f2d8",
   "metadata": {},
   "outputs": [
    {
     "name": "stdout",
     "output_type": "stream",
     "text": [
      "Found files:\n"
     ]
    },
    {
     "ename": "FileNotFoundError",
     "evalue": "No files named nba_misc_YYYY.csv in ../data.\nUse Share & Export → Get table as CSV on the season page's Advanced/Misc table.",
     "output_type": "error",
     "traceback": [
      "\u001b[31m---------------------------------------------------------------------------\u001b[39m",
      "\u001b[31mFileNotFoundError\u001b[39m                         Traceback (most recent call last)",
      "\u001b[36mCell\u001b[39m\u001b[36m \u001b[39m\u001b[32mIn[3]\u001b[39m\u001b[32m, line 13\u001b[39m\n\u001b[32m     10\u001b[39m     \u001b[38;5;28mprint\u001b[39m(\u001b[33m\"\u001b[39m\u001b[33m •\u001b[39m\u001b[33m\"\u001b[39m, f.name)\n\u001b[32m     12\u001b[39m \u001b[38;5;28;01mif\u001b[39;00m \u001b[38;5;129;01mnot\u001b[39;00m files:\n\u001b[32m---> \u001b[39m\u001b[32m13\u001b[39m     \u001b[38;5;28;01mraise\u001b[39;00m \u001b[38;5;167;01mFileNotFoundError\u001b[39;00m(\n\u001b[32m     14\u001b[39m         \u001b[33m\"\u001b[39m\u001b[33mNo files named nba_misc_YYYY.csv in ../data.\u001b[39m\u001b[38;5;130;01m\\n\u001b[39;00m\u001b[33m\"\u001b[39m\n\u001b[32m     15\u001b[39m         \u001b[33m\"\u001b[39m\u001b[33mUse Share & Export → Get table as CSV on the season page\u001b[39m\u001b[33m'\u001b[39m\u001b[33ms Advanced/Misc table.\u001b[39m\u001b[33m\"\u001b[39m\n\u001b[32m     16\u001b[39m     )\n",
      "\u001b[31mFileNotFoundError\u001b[39m: No files named nba_misc_YYYY.csv in ../data.\nUse Share & Export → Get table as CSV on the season page's Advanced/Misc table."
     ]
    }
   ],
   "source": [
    "from pathlib import Path\n",
    "import pandas as pd\n",
    "import re\n",
    "\n",
    "DATA = Path(\"../data\")\n",
    "files = sorted(DATA.glob(\"nba_misc_*.csv\"))\n",
    "\n",
    "print(\"Found files:\")\n",
    "for f in files: \n",
    "    print(\" •\", f.name)\n",
    "\n",
    "if not files:\n",
    "    raise FileNotFoundError(\n",
    "        \"No files named nba_misc_YYYY.csv in ../data.\\n\"\n",
    "        \"Use Share & Export → Get table as CSV on the season page's Advanced/Misc table.\"\n",
    "    )\n"
   ]
  },
  {
   "cell_type": "code",
   "execution_count": null,
   "id": "8191bccc-7192-420d-9e86-104f76a8b7da",
   "metadata": {},
   "outputs": [],
   "source": []
  }
 ],
 "metadata": {
  "kernelspec": {
   "display_name": "Python 3 (ipykernel)",
   "language": "python",
   "name": "python3"
  },
  "language_info": {
   "codemirror_mode": {
    "name": "ipython",
    "version": 3
   },
   "file_extension": ".py",
   "mimetype": "text/x-python",
   "name": "python",
   "nbconvert_exporter": "python",
   "pygments_lexer": "ipython3",
   "version": "3.13.1"
  }
 },
 "nbformat": 4,
 "nbformat_minor": 5
}
