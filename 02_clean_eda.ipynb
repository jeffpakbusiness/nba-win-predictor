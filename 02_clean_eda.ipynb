{
 "cells": [
  {
   "cell_type": "markdown",
   "id": "aacfddd8-1984-458f-8128-af67d9867d91",
   "metadata": {},
   "source": [
    "# 02 — Clean & EDA\n",
    "Input: `data/combined_team_stats.csv`  \n",
    "Output: `data/clean_team_stats.csv` and `images/top_corr_with_winpct.png`\n"
   ]
  },
  {
   "cell_type": "code",
   "execution_count": 1,
   "id": "aa18d53f-60d3-4a99-a17d-ea5565e9508f",
   "metadata": {},
   "outputs": [
    {
     "name": "stdout",
     "output_type": "stream",
     "text": [
      "DATA: C:\\Users\\jeff\\Documents\\nba-win-predictor\\data\n"
     ]
    },
    {
     "data": {
      "text/plain": [
       "(                 team  season  wins  losses  pace   ortg   drtg  net_rating  \\\n",
       " 0      Atlanta Hawks*    2014  38.0    44.0  94.6  105.9  106.4        -0.5   \n",
       " 1      Boston Celtics    2014  25.0    57.0  93.3  102.9  107.7        -4.8   \n",
       " 2      Brooklyn Nets*    2014  44.0    38.0  91.4  106.7  107.7        -1.0   \n",
       " 3  Charlotte Bobcats*    2014  43.0    39.0  92.4  103.6  103.8        -0.2   \n",
       " 4      Chicago Bulls*    2014  48.0    34.0  90.2  102.5  100.5         2.0   \n",
       " \n",
       "     srs  threepar    ftr  ft_fga  \n",
       " 0 -0.88     0.316  0.266   0.208  \n",
       " 1 -4.97     0.251  0.248   0.193  \n",
       " 2 -1.58     0.301  0.313   0.236  \n",
       " 3 -0.89     0.219  0.297   0.219  \n",
       " 4  1.20     0.222  0.290   0.226  ,\n",
       " (360, 12))"
      ]
     },
     "execution_count": 1,
     "metadata": {},
     "output_type": "execute_result"
    }
   ],
   "source": [
    "from pathlib import Path\n",
    "import pandas as pd\n",
    "import numpy as np\n",
    "\n",
    "# find repo folders (works whether notebook runs at root or /notebooks)\n",
    "ROOT = Path(\".\").resolve()\n",
    "DATA = Path(\"data\") if Path(\"data\").exists() else Path(\"../data\")\n",
    "IMAGES = Path(\"images\") if Path(\"images\").exists() else Path(\"../images\")\n",
    "IMAGES.mkdir(exist_ok=True)\n",
    "\n",
    "print(\"DATA:\", DATA.resolve())\n",
    "df = pd.read_csv(DATA / \"combined_team_stats.csv\")\n",
    "df.head(), df.shape\n"
   ]
  },
  {
   "cell_type": "code",
   "execution_count": 2,
   "id": "fa97cd6d-4c6b-4a74-a553-7e6fa1720d41",
   "metadata": {},
   "outputs": [
    {
     "data": {
      "text/html": [
       "<div>\n",
       "<style scoped>\n",
       "    .dataframe tbody tr th:only-of-type {\n",
       "        vertical-align: middle;\n",
       "    }\n",
       "\n",
       "    .dataframe tbody tr th {\n",
       "        vertical-align: top;\n",
       "    }\n",
       "\n",
       "    .dataframe thead th {\n",
       "        text-align: right;\n",
       "    }\n",
       "</style>\n",
       "<table border=\"1\" class=\"dataframe\">\n",
       "  <thead>\n",
       "    <tr style=\"text-align: right;\">\n",
       "      <th></th>\n",
       "      <th>team</th>\n",
       "      <th>season</th>\n",
       "      <th>wins</th>\n",
       "      <th>losses</th>\n",
       "      <th>win_pct</th>\n",
       "    </tr>\n",
       "  </thead>\n",
       "  <tbody>\n",
       "    <tr>\n",
       "      <th>0</th>\n",
       "      <td>Atlanta Hawks*</td>\n",
       "      <td>2014</td>\n",
       "      <td>38.0</td>\n",
       "      <td>44.0</td>\n",
       "      <td>0.463415</td>\n",
       "    </tr>\n",
       "    <tr>\n",
       "      <th>1</th>\n",
       "      <td>Boston Celtics</td>\n",
       "      <td>2014</td>\n",
       "      <td>25.0</td>\n",
       "      <td>57.0</td>\n",
       "      <td>0.304878</td>\n",
       "    </tr>\n",
       "    <tr>\n",
       "      <th>2</th>\n",
       "      <td>Brooklyn Nets*</td>\n",
       "      <td>2014</td>\n",
       "      <td>44.0</td>\n",
       "      <td>38.0</td>\n",
       "      <td>0.536585</td>\n",
       "    </tr>\n",
       "    <tr>\n",
       "      <th>3</th>\n",
       "      <td>Charlotte Bobcats*</td>\n",
       "      <td>2014</td>\n",
       "      <td>43.0</td>\n",
       "      <td>39.0</td>\n",
       "      <td>0.524390</td>\n",
       "    </tr>\n",
       "    <tr>\n",
       "      <th>4</th>\n",
       "      <td>Chicago Bulls*</td>\n",
       "      <td>2014</td>\n",
       "      <td>48.0</td>\n",
       "      <td>34.0</td>\n",
       "      <td>0.585366</td>\n",
       "    </tr>\n",
       "  </tbody>\n",
       "</table>\n",
       "</div>"
      ],
      "text/plain": [
       "                 team  season  wins  losses   win_pct\n",
       "0      Atlanta Hawks*    2014  38.0    44.0  0.463415\n",
       "1      Boston Celtics    2014  25.0    57.0  0.304878\n",
       "2      Brooklyn Nets*    2014  44.0    38.0  0.536585\n",
       "3  Charlotte Bobcats*    2014  43.0    39.0  0.524390\n",
       "4      Chicago Bulls*    2014  48.0    34.0  0.585366"
      ]
     },
     "execution_count": 2,
     "metadata": {},
     "output_type": "execute_result"
    }
   ],
   "source": [
    "# create target\n",
    "df[\"games\"] = df[\"wins\"] + df[\"losses\"]\n",
    "df = df[df[\"games\"] > 0]\n",
    "df[\"win_pct\"] = df[\"wins\"] / df[\"games\"]\n",
    "\n",
    "# coerce numerics (leave team/season as id)\n",
    "id_cols = [\"team\",\"season\"]\n",
    "for c in df.columns:\n",
    "    if c not in id_cols:\n",
    "        df[c] = pd.to_numeric(df[c], errors=\"coerce\")\n",
    "\n",
    "df[[\"team\",\"season\",\"wins\",\"losses\",\"win_pct\"]].head()\n"
   ]
  },
  {
   "cell_type": "code",
   "execution_count": 4,
   "id": "66c96f04-8470-4df0-ac6a-ca00cd1a2b18",
   "metadata": {},
   "outputs": [],
   "source": [
    "# if net_rating is missing but ortg/drtg exist, build it\n",
    "if \"net_rating\" not in df.columns and {\"ortg\",\"drtg\"}.issubset(df.columns):\n",
    "    df[\"net_rating\"] = df[\"ortg\"] - df[\"drtg\"]\n",
    "\n",
    "# convenience ratios if present\n",
    "if {\"ftr\",\"threepar\"}.issubset(df.columns):\n",
    "    df[\"spacing_index\"] = df[\"threepar\"] - df[\"ftr\"]  # crude proxy: more 3s vs FT rate\n"
   ]
  },
  {
   "cell_type": "code",
   "execution_count": 5,
   "id": "e8081cc3-8a02-495c-9377-3fccb3ae609b",
   "metadata": {},
   "outputs": [
    {
     "data": {
      "text/plain": [
       "((360, 15), [])"
      ]
     },
     "execution_count": 5,
     "metadata": {},
     "output_type": "execute_result"
    }
   ],
   "source": [
    "num_cols = [c for c in df.columns if c not in [\"team\",\"season\"]]\n",
    "missing_pct = df[num_cols].isna().mean()\n",
    "\n",
    "# drop columns with > 40% missing\n",
    "drop_cols = missing_pct[missing_pct > 0.40].index.tolist()\n",
    "df = df.drop(columns=drop_cols)\n",
    "\n",
    "# fill remaining with column median\n",
    "for c in [c for c in df.columns if c not in [\"team\",\"season\"]]:\n",
    "    if df[c].isna().any():\n",
    "        df[c] = df[c].fillna(df[c].median())\n",
    "\n",
    "df.shape, drop_cols"
   ]
  },
  {
   "cell_type": "code",
   "execution_count": 6,
   "id": "f7d1e170-5f7b-4baf-9883-137d56c3d11e",
   "metadata": {},
   "outputs": [
    {
     "data": {
      "text/plain": [
       "(353, 15)"
      ]
     },
     "execution_count": 6,
     "metadata": {},
     "output_type": "execute_result"
    }
   ],
   "source": [
    "rate_like = [c for c in df.columns if c.endswith(\"pct\") or \"rating\" in c or c in [\"pace\",\"win_pct\",\"spacing_index\"]]\n",
    "for c in rate_like:\n",
    "    if c in df.columns:\n",
    "        q1, q99 = df[c].quantile([0.001, 0.999])\n",
    "        df = df[df[c].between(q1, q99)]\n",
    "df.shape"
   ]
  },
  {
   "cell_type": "code",
   "execution_count": 7,
   "id": "43dc063e-bcc3-4d6b-ba9c-b800cf3a871d",
   "metadata": {},
   "outputs": [
    {
     "data": {
      "image/png": "[encoded data removed]",
      "text/plain": [
       "<Figure size 700x600 with 1 Axes>"
      ]
     },
     "metadata": {},
     "output_type": "display_data"
    },
    {
     "data": {
      "text/plain": [
       "(WindowsPath('images/top_corr_with_winpct.png'),\n",
       " win_pct          1.000000\n",
       " wins             0.985549\n",
       " net_rating       0.966346\n",
       " srs              0.964171\n",
       " ortg             0.555913\n",
       " ft_fga           0.203082\n",
       " threepar         0.138316\n",
       " ftr              0.134750\n",
       " games            0.103330\n",
       " spacing_index    0.073520\n",
       " season          -0.010947\n",
       " pace            -0.040025\n",
       " Name: win_pct, dtype: float64)"
      ]
     },
     "execution_count": 7,
     "metadata": {},
     "output_type": "execute_result"
    }
   ],
   "source": [
    "import matplotlib.pyplot as plt\n",
    "\n",
    "corr = df.corr(numeric_only=True)[\"win_pct\"].sort_values(ascending=False)\n",
    "top = corr.head(12)\n",
    "\n",
    "plt.figure(figsize=(7,6))\n",
    "plt.barh(list(reversed(top.index)), list(reversed(top.values)))\n",
    "plt.title(\"Top correlations with Win%\")\n",
    "plt.tight_layout()\n",
    "out_img = IMAGES / \"top_corr_with_winpct.png\"\n",
    "plt.savefig(out_img, dpi=200)\n",
    "plt.show()\n",
    "\n",
    "out_img, top\n"
   ]
  },
  {
   "cell_type": "code",
   "execution_count": 8,
   "id": "3b1ac7f4-01b1-4d88-93aa-16256fc34822",
   "metadata": {},
   "outputs": [
    {
     "data": {
      "text/plain": [
       "WindowsPath('data/clean_team_stats.csv')"
      ]
     },
     "execution_count": 8,
     "metadata": {},
     "output_type": "execute_result"
    }
   ],
   "source": [
    "out_csv = DATA / \"clean_team_stats.csv\"\n",
    "df.to_csv(out_csv, index=False)\n",
    "out_csv\n"
   ]
  }
 ],
 "metadata": {
  "kernelspec": {
   "display_name": "Python 3 (ipykernel)",
   "language": "python",
   "name": "python3"
  },
  "language_info": {
   "codemirror_mode": {
    "name": "ipython",
    "version": 3
   },
   "file_extension": ".py",
   "mimetype": "text/x-python",
   "name": "python",
   "nbconvert_exporter": "python",
   "pygments_lexer": "ipython3",
   "version": "3.13.1"
  }
 },
 "nbformat": 4,
 "nbformat_minor": 5
}
