{
 "cells": [
  {
   "cell_type": "markdown",
   "id": "4b7217be-f0a5-49ee-8323-eb4d2bef8c4b",
   "metadata": {},
   "source": [
    "# 01 — Combine per-season Advanced/Misc Team CSVs\n",
    "Input files (in `../data`): `nba_misc_2015.csv ... nba_misc_2024.csv`  \n",
    "Output: `../data/combined_team_stats.csv`"
   ]
  },
  {
   "cell_type": "code",
   "execution_count": 14,
   "id": "8191bccc-7192-420d-9e86-104f76a8b7da",
   "metadata": {},
   "outputs": [
    {
     "name": "stdout",
     "output_type": "stream",
     "text": [
      "Using data folder: C:\\Users\\jeff\\Documents\\nba-win-predictor\\data\n",
      "Found files: ['nba_misc_2014.csv', 'nba_misc_2015.csv', 'nba_misc_2016.csv', 'nba_misc_2017.csv', 'nba_misc_2018.csv', 'nba_misc_2019.csv', 'nba_misc_2020.csv', 'nba_misc_2021.csv', 'nba_misc_2022.csv', 'nba_misc_2023.csv', 'nba_misc_2024.csv', 'nba_misc_2025.csv']\n"
     ]
    }
   ],
   "source": [
    "from pathlib import Path\n",
    "\n",
    "# Find the data folder automatically\n",
    "if Path(\"data\").exists():\n",
    "    DATA = Path(\"data\")              # notebook at repo root\n",
    "elif Path(\"../data\").exists():\n",
    "    DATA = Path(\"../data\")           # notebook inside notebooks/\n",
    "else:\n",
    "    raise FileNotFoundError(\"Could not find a 'data' folder.\")\n",
    "\n",
    "print(\"Using data folder:\", DATA.resolve())\n",
    "files = sorted(DATA.glob(\"nba_misc_*.csv\"))\n",
    "print(\"Found files:\", [f.name for f in files])\n"
   ]
  },
  {
   "cell_type": "code",
   "execution_count": 15,
   "id": "3500d568-b5bd-4146-8d6a-cc7cc00501dd",
   "metadata": {},
   "outputs": [
    {
     "name": "stdout",
     "output_type": "stream",
     "text": [
      "(372, 32)\n",
      "['Rk', 'Team', 'Age', 'W', 'L', 'PW', 'PL', 'MOV', 'SOS', 'SRS', 'ORtg', 'DRtg', 'NRtg', 'Pace', 'FTr', '3PAr', 'TS%', 'Unnamed: 17', 'eFG%', 'TOV%', 'ORB%', 'FT/FGA', 'Unnamed: 22', 'eFG%.1', 'TOV%.1']\n"
     ]
    }
   ],
   "source": [
    "import re\n",
    "import pandas as pd\n",
    "\n",
    "def read_br_csv(path):\n",
    "    # Basketball-Reference CSVs have a banner row; the real header is row 2\n",
    "    return pd.read_csv(path, header=1)\n",
    "\n",
    "frames = []\n",
    "for f in files:\n",
    "    season = int(re.search(r\"(\\d{4})\", f.name).group(1))\n",
    "    df = read_br_csv(f)\n",
    "    df[\"Season\"] = season\n",
    "    frames.append(df)\n",
    "\n",
    "raw = pd.concat(frames, ignore_index=True)\n",
    "print(raw.shape)\n",
    "print(raw.columns.tolist()[:25])  # quick peek at columns\n"
   ]
  },
  {
   "cell_type": "code",
   "execution_count": 16,
   "id": "f669771a-8337-4d2f-893d-3a0cb691016e",
   "metadata": {},
   "outputs": [
    {
     "data": {
      "text/plain": [
       "Index(['rk', 'team', 'age', 'w', 'l', 'pw', 'pl', 'mov', 'sos', 'srs', 'ortg',\n",
       "       'drtg', 'nrtg', 'pace', 'ftr', 'threepar', 'tspct', 'unnamed:_17',\n",
       "       'efgpct', 'tovpct'],\n",
       "      dtype='object')"
      ]
     },
     "execution_count": 16,
     "metadata": {},
     "output_type": "execute_result"
    }
   ],
   "source": [
    "def snakeify(s: str) -> str:\n",
    "    s = s.strip().lower().replace('%','pct')\n",
    "    for ch in [' ', '/', '-', '(', ')', '.']:\n",
    "        s = s.replace(ch, '_')\n",
    "    return '_'.join(t for t in s.split('_') if t)\n",
    "\n",
    "raw.columns = [snakeify(c) for c in raw.columns]\n",
    "\n",
    "# small fixes for common variations\n",
    "if \"3par\" in raw.columns: \n",
    "    raw = raw.rename(columns={\"3par\": \"threepar\"})\n",
    "if \"ft_per_fga\" in raw.columns:\n",
    "    raw = raw.rename(columns={\"ft_per_fga\": \"ft_fga\"})\n",
    "\n",
    "raw.columns[:20]"
   ]
  },
  {
   "cell_type": "code",
   "execution_count": 17,
   "id": "bb8aade8-e0c2-4237-bf7b-f2703b589b02",
   "metadata": {},
   "outputs": [
    {
     "data": {
      "text/plain": [
       "((360, 32),\n",
       "     rk                    team   age  wins  losses  pw  pl   mov   sos   srs  \\\n",
       " 0  1.0      San Antonio Spurs*  28.9  62.0    20.0  61  21  7.72  0.28  8.00   \n",
       " 1  2.0   Los Angeles Clippers*  28.1  57.0    25.0  59  23  6.98  0.30  7.27   \n",
       " 2  3.0  Oklahoma City Thunder*  26.2  59.0    23.0  58  24  6.34  0.32  6.66   \n",
       " \n",
       "    ...  unnamed:_22  efgpct_1  tovpct_1  drbpct  ft_fga_1  unnamed:_27  \\\n",
       " 0  ...          NaN     0.482      12.8    76.4     0.184          NaN   \n",
       " 1  ...          NaN     0.484      13.8    72.5     0.222          NaN   \n",
       " 2  ...          NaN     0.488      13.9    75.6     0.221          NaN   \n",
       " \n",
       "                      arena  attend  attend_g  season  \n",
       " 0              AT&T Center  755031     18415    2014  \n",
       " 1           STAPLES Center  787692     19212    2014  \n",
       " 2  Chesapeake Energy Arena  746323     18203    2014  \n",
       " \n",
       " [3 rows x 32 columns])"
      ]
     },
     "execution_count": 17,
     "metadata": {},
     "output_type": "execute_result"
    }
   ],
   "source": [
    "rename_map = {\n",
    "    \"team\":\"team\",\"w\":\"wins\",\"l\":\"losses\",\"pace\":\"pace\",\n",
    "    \"ortg\":\"ortg\",\"off_rtg\":\"ortg\",\"offensive_rating\":\"ortg\",\n",
    "    \"drtg\":\"drtg\",\"def_rtg\":\"drtg\",\"defensive_rating\":\"drtg\",\n",
    "    \"nrtg\":\"net_rating\",\"net_rtg\":\"net_rating\",\"netrating\":\"net_rating\",\"net_rating\":\"net_rating\",\n",
    "    \"srs\":\"srs\",\"ts_pct\":\"ts_pct\",\"efg_pct\":\"efg_pct\",\"threepar\":\"threepar\",\"ftr\":\"ftr\",\n",
    "    \"tov_pct\":\"tov_pct\",\"orb_pct\":\"orb_pct\",\"drb_pct\":\"drb_pct\",\n",
    "    \"opp_efg_pct\":\"opp_efg_pct\",\"opp_tov_pct\":\"opp_tov_pct\",\"opp_ft_fga\":\"opp_ft_fga\",\"ft_fga\":\"ft_fga\"\n",
    "}\n",
    "for k, v in list(rename_map.items()):\n",
    "    if k in raw.columns:\n",
    "        raw = raw.rename(columns={k: v})\n",
    "\n",
    "df = raw.copy()\n",
    "if \"team\" in df.columns:\n",
    "    df = df[~df[\"team\"].str.contains(\"league average|playoffs\", case=False, na=False)]\n",
    "\n",
    "df.shape, df.head(3)\n"
   ]
  },
  {
   "cell_type": "code",
   "execution_count": 18,
   "id": "c76e2c6e-2cdf-49b9-a704-52e4d7e12dda",
   "metadata": {},
   "outputs": [
    {
     "name": "stdout",
     "output_type": "stream",
     "text": [
      "Keeping: ['team', 'season', 'wins', 'losses', 'pace', 'ortg', 'drtg', 'net_rating', 'srs', 'threepar', 'ftr', 'ft_fga']\n",
      "Saved: C:\\Users\\jeff\\Documents\\nba-win-predictor\\data\\combined_team_stats.csv\n"
     ]
    },
    {
     "data": {
      "text/html": [
       "<div>\n",
       "<style scoped>\n",
       "    .dataframe tbody tr th:only-of-type {\n",
       "        vertical-align: middle;\n",
       "    }\n",
       "\n",
       "    .dataframe tbody tr th {\n",
       "        vertical-align: top;\n",
       "    }\n",
       "\n",
       "    .dataframe thead th {\n",
       "        text-align: right;\n",
       "    }\n",
       "</style>\n",
       "<table border=\"1\" class=\"dataframe\">\n",
       "  <thead>\n",
       "    <tr style=\"text-align: right;\">\n",
       "      <th></th>\n",
       "      <th>team</th>\n",
       "      <th>season</th>\n",
       "      <th>wins</th>\n",
       "      <th>losses</th>\n",
       "      <th>pace</th>\n",
       "      <th>ortg</th>\n",
       "      <th>drtg</th>\n",
       "      <th>net_rating</th>\n",
       "      <th>srs</th>\n",
       "      <th>threepar</th>\n",
       "      <th>ftr</th>\n",
       "      <th>ft_fga</th>\n",
       "    </tr>\n",
       "  </thead>\n",
       "  <tbody>\n",
       "    <tr>\n",
       "      <th>357</th>\n",
       "      <td>Toronto Raptors</td>\n",
       "      <td>2025</td>\n",
       "      <td>30.0</td>\n",
       "      <td>52.0</td>\n",
       "      <td>99.7</td>\n",
       "      <td>110.5</td>\n",
       "      <td>114.8</td>\n",
       "      <td>-4.3</td>\n",
       "      <td>-4.40</td>\n",
       "      <td>0.373</td>\n",
       "      <td>0.232</td>\n",
       "      <td>0.173</td>\n",
       "    </tr>\n",
       "    <tr>\n",
       "      <th>358</th>\n",
       "      <td>Utah Jazz</td>\n",
       "      <td>2025</td>\n",
       "      <td>17.0</td>\n",
       "      <td>65.0</td>\n",
       "      <td>100.0</td>\n",
       "      <td>111.2</td>\n",
       "      <td>120.4</td>\n",
       "      <td>-9.2</td>\n",
       "      <td>-8.51</td>\n",
       "      <td>0.449</td>\n",
       "      <td>0.252</td>\n",
       "      <td>0.195</td>\n",
       "    </tr>\n",
       "    <tr>\n",
       "      <th>359</th>\n",
       "      <td>Washington Wizards</td>\n",
       "      <td>2025</td>\n",
       "      <td>18.0</td>\n",
       "      <td>64.0</td>\n",
       "      <td>100.9</td>\n",
       "      <td>106.8</td>\n",
       "      <td>119.1</td>\n",
       "      <td>-12.3</td>\n",
       "      <td>-12.14</td>\n",
       "      <td>0.435</td>\n",
       "      <td>0.229</td>\n",
       "      <td>0.178</td>\n",
       "    </tr>\n",
       "  </tbody>\n",
       "</table>\n",
       "</div>"
      ],
      "text/plain": [
       "                   team  season  wins  losses   pace   ortg   drtg  \\\n",
       "357     Toronto Raptors    2025  30.0    52.0   99.7  110.5  114.8   \n",
       "358           Utah Jazz    2025  17.0    65.0  100.0  111.2  120.4   \n",
       "359  Washington Wizards    2025  18.0    64.0  100.9  106.8  119.1   \n",
       "\n",
       "     net_rating    srs  threepar    ftr  ft_fga  \n",
       "357        -4.3  -4.40     0.373  0.232   0.173  \n",
       "358        -9.2  -8.51     0.449  0.252   0.195  \n",
       "359       -12.3 -12.14     0.435  0.229   0.178  "
      ]
     },
     "execution_count": 18,
     "metadata": {},
     "output_type": "execute_result"
    }
   ],
   "source": [
    "# choose columns that exist in your data\n",
    "keep = [\n",
    "    \"team\",\"season\",\"wins\",\"losses\",\n",
    "    \"pace\",\"ortg\",\"drtg\",\"net_rating\",\"srs\",\n",
    "    \"ts_pct\",\"efg_pct\",\"threepar\",\"ftr\",\"tov_pct\",\"orb_pct\",\"drb_pct\",\n",
    "    \"opp_efg_pct\",\"opp_tov_pct\",\"opp_ft_fga\",\"ft_fga\"\n",
    "]\n",
    "keep = [c for c in keep if c in df.columns]\n",
    "print(\"Keeping:\", keep)\n",
    "\n",
    "df = df[keep].copy()\n",
    "df[\"season\"] = pd.to_numeric(df[\"season\"], errors=\"coerce\").astype(\"Int64\")\n",
    "df = df.sort_values([\"season\",\"team\"]).reset_index(drop=True)\n",
    "\n",
    "# SAVE here (uses the DATA folder we detected earlier)\n",
    "out_path = DATA / \"combined_team_stats.csv\"\n",
    "df.to_csv(out_path, index=False)\n",
    "print(\"Saved:\", out_path.resolve())\n",
    "df.tail(3)\n"
   ]
  },
  {
   "cell_type": "code",
   "execution_count": null,
   "id": "15b3bde0-1a56-4183-b305-89ddfc1507cc",
   "metadata": {},
   "outputs": [],
   "source": []
  }
 ],
 "metadata": {
  "kernelspec": {
   "display_name": "Python 3 (ipykernel)",
   "language": "python",
   "name": "python3"
  },
  "language_info": {
   "codemirror_mode": {
    "name": "ipython",
    "version": 3
   },
   "file_extension": ".py",
   "mimetype": "text/x-python",
   "name": "python",
   "nbconvert_exporter": "python",
   "pygments_lexer": "ipython3",
   "version": "3.13.1"
  }
 },
 "nbformat": 4,
 "nbformat_minor": 5
}
