{
 "cells": [
  {
   "cell_type": "markdown",
   "id": "bab26ecc-17db-4c5a-80b1-cfc5cdbdcc7e",
   "metadata": {},
   "source": [
    "# 03 — Modeling (Linear Regression for NBA Win%)\n",
    "\n",
    "**Input:** `data/clean_team_stats.csv` (auto-builds from `data/combined_team_stats.csv` if missing)  \n",
    "**Outputs:**\n",
    "- `images/top_positive_coeffs.png`\n",
    "- `images/top_negative_coeffs.png`\n",
    "- `model/win_predictor.pkl`\n",
    "- `model/scaler.pkl`\n",
    "- `model/features.csv`\n",
    "- `model/metrics.json`\n"
   ]
  },
  {
   "cell_type": "code",
   "execution_count": 4,
   "id": "121991b2-8398-4541-b7d0-69f331c374ae",
   "metadata": {},
   "outputs": [
    {
     "data": {
      "text/plain": [
       "(WindowsPath('C:/Users/jeff/Documents/nba-win-predictor/data'),\n",
       " WindowsPath('C:/Users/jeff/Documents/nba-win-predictor/images'),\n",
       " WindowsPath('C:/Users/jeff/Documents/nba-win-predictor/model'))"
      ]
     },
     "execution_count": 4,
     "metadata": {},
     "output_type": "execute_result"
    }
   ],
   "source": [
    "from pathlib import Path\n",
    "import pandas as pd\n",
    "import numpy as np\n",
    "\n",
    "# Resolve folders whether notebook runs at repo root or /notebooks\n",
    "DATA   = Path(\"data\")   if Path(\"data\").exists()   else Path(\"../data\")\n",
    "IMAGES = Path(\"images\") if Path(\"images\").exists() else Path(\"../images\")\n",
    "MODEL  = Path(\"model\")  if Path(\"model\").exists()  else Path(\"../model\")\n",
    "IMAGES.mkdir(exist_ok=True)\n",
    "MODEL.mkdir(exist_ok=True)\n",
    "\n",
    "DATA.resolve(), IMAGES.resolve(), MODEL.resolve()\n"
   ]
  },
  {
   "cell_type": "code",
   "execution_count": 2,
   "id": "b9e8a908-ac00-40ad-a812-6f1907a14796",
   "metadata": {},
   "outputs": [
    {
     "name": "stdout",
     "output_type": "stream",
     "text": [
      "DATA: C:\\Users\\jeff\\Documents\\nba-win-predictor\\data\n",
      "Has combined? True\n",
      "Has clean? False\n"
     ]
    }
   ],
   "source": [
    "from pathlib import Path\n",
    "DATA = Path(\"data\") if Path(\"data\").exists() else Path(\"../data\")\n",
    "print(\"DATA:\", DATA.resolve())\n",
    "print(\"Has combined?\", (DATA/\"combined_team_stats.csv\").exists())\n",
    "print(\"Has clean?\",    (DATA/\"clean_team_stats.csv\").exists())\n",
    "out = DATA/\"clean_team_stats.csv\"\n",
    "df.to_csv(out, index=False)\n",
    "print(\"Wrote:\", out.resolve(), \"shape:\", df.shape)"
   ]
  },
  {
   "cell_type": "code",
   "execution_count": 5,
   "id": "453a8bb0-eeb8-42a5-8b47-5babc9f29c8d",
   "metadata": {},
   "outputs": [
    {
     "name": "stdout",
     "output_type": "stream",
     "text": [
      "Loaded clean: C:\\Users\\jeff\\Documents\\nba-win-predictor\\data\\clean_team_stats.csv\n"
     ]
    },
    {
     "data": {
      "text/plain": [
       "(             team  season  wins  losses  pace   ortg   drtg  net_rating   srs  \\\n",
       " 0  Atlanta Hawks*    2014  38.0    44.0  94.6  105.9  106.4        -0.5 -0.88   \n",
       " 1  Boston Celtics    2014  25.0    57.0  93.3  102.9  107.7        -4.8 -4.97   \n",
       " 2  Brooklyn Nets*    2014  44.0    38.0  91.4  106.7  107.7        -1.0 -1.58   \n",
       " \n",
       "    threepar    ftr  ft_fga  games   win_pct  \n",
       " 0     0.316  0.266   0.208   82.0  0.463415  \n",
       " 1     0.251  0.248   0.193   82.0  0.304878  \n",
       " 2     0.301  0.313   0.236   82.0  0.536585  ,\n",
       " (355, 14))"
      ]
     },
     "execution_count": 5,
     "metadata": {},
     "output_type": "execute_result"
    }
   ],
   "source": [
    "# Try to load clean dataset; if missing, build it from combined\n",
    "try:\n",
    "    df = pd.read_csv(DATA / \"clean_team_stats.csv\")\n",
    "    print(\"Loaded clean:\", (DATA/\"clean_team_stats.csv\").resolve())\n",
    "except FileNotFoundError:\n",
    "    print(\"No clean file found. Building from combined_team_stats.csv...\")\n",
    "    df = pd.read_csv(DATA / \"combined_team_stats.csv\")\n",
    "\n",
    "    # Target & basic fields\n",
    "    df[\"games\"] = df[\"wins\"] + df[\"losses\"]\n",
    "    df = df[df[\"games\"] > 0]\n",
    "    df[\"win_pct\"] = df[\"wins\"] / df[\"games\"]\n",
    "\n",
    "    # numeric coercion (keep ids)\n",
    "    id_cols = [\"team\",\"season\"]\n",
    "    for c in df.columns:\n",
    "        if c not in id_cols:\n",
    "            df[c] = pd.to_numeric(df[c], errors=\"coerce\")\n",
    "\n",
    "    # derive net_rating if missing\n",
    "    if \"net_rating\" not in df.columns and {\"ortg\",\"drtg\"}.issubset(df.columns):\n",
    "        df[\"net_rating\"] = df[\"ortg\"] - df[\"drtg\"]\n",
    "\n",
    "    # drop very-missing columns, then fill remaining NA with medians\n",
    "    num_cols = [c for c in df.columns if c not in id_cols]\n",
    "    drop_cols = df[num_cols].isna().mean()[lambda s: s > 0.40].index.tolist()\n",
    "    if drop_cols:\n",
    "        df = df.drop(columns=drop_cols)\n",
    "\n",
    "    for c in [c for c in df.columns if c not in id_cols]:\n",
    "        if df[c].isna().any():\n",
    "            df[c] = df[c].fillna(df[c].median())\n",
    "\n",
    "    # light outlier trim on rate-like columns\n",
    "    rate_like = [c for c in df.columns if c.endswith(\"pct\") or \"rating\" in c or c in [\"pace\",\"win_pct\"]]\n",
    "    for c in rate_like:\n",
    "        if c in df.columns:\n",
    "            q1, q99 = df[c].quantile([0.001, 0.999])\n",
    "            df = df[df[c].between(q1, q99)]\n",
    "\n",
    "    # save clean\n",
    "    out = DATA / \"clean_team_stats.csv\"\n",
    "    df.to_csv(out, index=False)\n",
    "    print(\"Wrote clean:\", out.resolve(), \"shape:\", df.shape)\n",
    "\n",
    "df.head(3), df.shape\n"
   ]
  },
  {
   "cell_type": "code",
   "execution_count": 6,
   "id": "6dc140bd-5109-4c3b-b92d-83e28248c9ca",
   "metadata": {},
   "outputs": [
    {
     "name": "stdout",
     "output_type": "stream",
     "text": [
      "Features: 8\n"
     ]
    },
    {
     "data": {
      "text/plain": [
       "['pace', 'ortg', 'drtg', 'net_rating', 'srs', 'threepar', 'ftr', 'ft_fga']"
      ]
     },
     "execution_count": 6,
     "metadata": {},
     "output_type": "execute_result"
    }
   ],
   "source": [
    "# Target\n",
    "y = df[\"win_pct\"]\n",
    "\n",
    "# Drop identifiers / leak-prone columns\n",
    "drop_cols = {\"team\",\"season\",\"wins\",\"losses\",\"games\",\"win_pct\"}\n",
    "feature_cols = [c for c in df.columns if c not in drop_cols]\n",
    "X = df[feature_cols].copy()\n",
    "\n",
    "print(\"Features:\", len(feature_cols))\n",
    "feature_cols[:12]\n"
   ]
  },
  {
   "cell_type": "code",
   "execution_count": 7,
   "id": "0bdede63-2e38-48f7-b250-4622fb02fb37",
   "metadata": {},
   "outputs": [
    {
     "data": {
      "text/plain": [
       "((284, 8), (71, 8))"
      ]
     },
     "execution_count": 7,
     "metadata": {},
     "output_type": "execute_result"
    }
   ],
   "source": [
    "from sklearn.model_selection import train_test_split\n",
    "from sklearn.preprocessing import StandardScaler\n",
    "\n",
    "X_train, X_test, y_train, y_test = train_test_split(\n",
    "    X, y, test_size=0.20, random_state=42\n",
    ")\n",
    "\n",
    "scaler = StandardScaler()\n",
    "X_train_s = scaler.fit_transform(X_train)\n",
    "X_test_s  = scaler.transform(X_test)\n",
    "\n",
    "X_train_s.shape, X_test_s.shape\n"
   ]
  },
  {
   "cell_type": "code",
   "execution_count": 9,
   "id": "8e7db84d-c69c-4a87-b778-1deed4783143",
   "metadata": {},
   "outputs": [
    {
     "name": "stdout",
     "output_type": "stream",
     "text": [
      "R²: 0.937 | RMSE: 0.0359 | MAE: 0.0295 | Baseline RMSE: 0.1443\n"
     ]
    }
   ],
   "source": [
    "from sklearn.linear_model import LinearRegression\n",
    "from sklearn.metrics import r2_score, mean_squared_error, mean_absolute_error\n",
    "import numpy as np\n",
    "import json\n",
    "\n",
    "model = LinearRegression()\n",
    "model.fit(X_train_s, y_train)\n",
    "\n",
    "y_pred = model.predict(X_test_s)\n",
    "\n",
    "# metrics (version-agnostic)\n",
    "r2  = r2_score(y_test, y_pred)\n",
    "mse = mean_squared_error(y_test, y_pred)\n",
    "rmse = np.sqrt(mse)\n",
    "mae = mean_absolute_error(y_test, y_pred)\n",
    "\n",
    "# simple baseline: predict train mean\n",
    "baseline = np.repeat(y_train.mean(), len(y_test))\n",
    "baseline_rmse = np.sqrt(mean_squared_error(y_test, baseline))\n",
    "\n",
    "print(f\"R²: {r2:.3f} | RMSE: {rmse:.4f} | MAE: {mae:.4f} | Baseline RMSE: {baseline_rmse:.4f}\")\n",
    "\n"
   ]
  },
  {
   "cell_type": "code",
   "execution_count": 10,
   "id": "f2b517fb-a309-42fb-8752-040b1ad8dbd2",
   "metadata": {},
   "outputs": [
    {
     "data": {
      "image/png": "[encoded data removed]",
      "text/plain": [
       "<Figure size 700x900 with 1 Axes>"
      ]
     },
     "metadata": {},
     "output_type": "display_data"
    },
    {
     "data": {
      "image/png": "[encoded data removed]",
      "text/plain": [
       "<Figure size 700x900 with 1 Axes>"
      ]
     },
     "metadata": {},
     "output_type": "display_data"
    },
    {
     "data": {
      "text/plain": [
       "(WindowsPath('images/top_positive_coeffs.png'),\n",
       " WindowsPath('images/top_negative_coeffs.png'))"
      ]
     },
     "execution_count": 10,
     "metadata": {},
     "output_type": "execute_result"
    }
   ],
   "source": [
    "import matplotlib.pyplot as plt\n",
    "import pandas as pd\n",
    "\n",
    "coefs = pd.Series(model.coef_, index=feature_cols).sort_values()\n",
    "\n",
    "# top positive\n",
    "plt.figure(figsize=(7,9))\n",
    "coefs.tail(12).plot(kind=\"barh\", title=\"Top positive coefficients\")\n",
    "plt.tight_layout()\n",
    "pos_path = IMAGES / \"top_positive_coeffs.png\"\n",
    "plt.savefig(pos_path, dpi=200)\n",
    "plt.show()\n",
    "\n",
    "# top negative\n",
    "plt.figure(figsize=(7,9))\n",
    "coefs.head(12).plot(kind=\"barh\", title=\"Top negative coefficients\")\n",
    "plt.tight_layout()\n",
    "neg_path = IMAGES / \"top_negative_coeffs.png\"\n",
    "plt.savefig(neg_path, dpi=200)\n",
    "plt.show()\n",
    "\n",
    "pos_path, neg_path\n"
   ]
  },
  {
   "cell_type": "code",
   "execution_count": 11,
   "id": "9708c732-901a-4458-9c85-0da9f404af53",
   "metadata": {},
   "outputs": [
    {
     "data": {
      "text/plain": [
       "'saved'"
      ]
     },
     "execution_count": 11,
     "metadata": {},
     "output_type": "execute_result"
    }
   ],
   "source": [
    "import joblib\n",
    "\n",
    "joblib.dump(model, MODEL / \"win_predictor.pkl\")\n",
    "joblib.dump(scaler, MODEL / \"scaler.pkl\")\n",
    "pd.Series(feature_cols).to_csv(MODEL / \"features.csv\", index=False)\n",
    "\n",
    "metrics = {\"r2\": float(r2), \"rmse\": float(rmse), \"mae\": float(mae), \"baseline_rmse\": float(baseline_rmse)}\n",
    "(MODEL / \"metrics.json\").write_text(json.dumps(metrics, indent=2))\n",
    "\n",
    "\"saved\"\n"
   ]
  },
  {
   "cell_type": "code",
   "execution_count": null,
   "id": "70bd4104-bf1e-422f-a474-2b1d681473c5",
   "metadata": {},
   "outputs": [],
   "source": []
  }
 ],
 "metadata": {
  "kernelspec": {
   "display_name": "Python 3 (ipykernel)",
   "language": "python",
   "name": "python3"
  },
  "language_info": {
   "codemirror_mode": {
    "name": "ipython",
    "version": 3
   },
   "file_extension": ".py",
   "mimetype": "text/x-python",
   "name": "python",
   "nbconvert_exporter": "python",
   "pygments_lexer": "ipython3",
   "version": "3.13.1"
  }
 },
 "nbformat": 4,
 "nbformat_minor": 5
}
